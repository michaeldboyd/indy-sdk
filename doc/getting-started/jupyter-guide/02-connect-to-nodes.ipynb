{
 "cells": [
  {
   "cell_type": "markdown",
   "metadata": {},
   "source": [
    "# 2. Connecting to the Indy Nodes Pool\n",
    "\n",
    "We are ready to start writing the code that will cover Alice's use case from start to finish. It is important to note that for demo purposes it will be a single test that will contain the code intended to be executed on different agents. We will always point to what Agent is intended to execute each code part. Also we will use different wallets to store the DID and keys of different Agents. Let's begin.\n",
    "\n",
    "The first code block will contain the code of the **Steward's** agent.\n",
    "\n",
    "**To write and read the ledger's transactions after gaining the proper role, you'll need to make a connection to the Indy nodes pool. To make a connection to the different pools that exist, like the Sovrin pool or the local pool we started by ourself as part of this tutorial, you'll need to set up a pool configuration.**\n",
    "\n",
    "The list of nodes in the pool is stored in the ledger as NODE transactions. Libindy allows you to restore the actual list of NODE transactions by a few known transactions that we call genesis transactions. Each **Pool Configuration** is defined as a pair of pool configuration name and pool configuration JSON. The most important field in pool configuration json is the path to the file with the list of genesis transactions. Make sure this path is correct.\n",
    "\n",
    "The ``pool.create_pool_ledger_config`` call allows you to create a named pool configuration. After the pool configuration is created we can connect to the nodes pool that this configuration describes by calling ``pool.open_pool_ledger``. This call returns the pool handle that can be used to reference this opened connection in future libindy calls.\n",
    "\n",
    "The below code block below contains each of these items. Note how the comments denote that this is the code for the \"Steward Agent.\"\n",
    "\n",
    "\n",
    "```python\n",
    "  # Steward Agent\n",
    "  pool_name = 'pool1'\n",
    "  pool_genesis_txn_path = get_pool_genesis_txn_path(pool_name)\n",
    "  pool_config = json.dumps({\"genesis_txn\": str(pool_genesis_txn_path)})\n",
    "  await pool.create_pool_ledger_config(pool_name, pool_config)\n",
    "  pool_handle = await pool.open_pool_ledger(pool_name, None)\n",
    "```\n"
   ]
  },
  {
   "cell_type": "markdown",
   "metadata": {},
   "source": [
    "[previous](01-trust-anchor-credentials.ipynb) | [next](03-get-steward-ownership.ipynb)"
   ]
  }
 ],
 "metadata": {
  "kernelspec": {
   "display_name": "Python 3",
   "language": "python",
   "name": "python3"
  },
  "language_info": {
   "codemirror_mode": {
    "name": "ipython",
    "version": 3
   },
   "file_extension": ".py",
   "mimetype": "text/x-python",
   "name": "python",
   "nbconvert_exporter": "python",
   "pygments_lexer": "ipython3",
   "version": "3.5.2"
  }
 },
 "nbformat": 4,
 "nbformat_minor": 2
}
