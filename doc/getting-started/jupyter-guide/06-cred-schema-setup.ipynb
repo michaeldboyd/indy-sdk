{
 "cells": [
  {
   "cell_type": "markdown",
   "metadata": {},
   "source": [
    "# 6. Credential Schemas Setup\n",
    "\n",
    "**Credential Schema** is the base semantic structure that describes the list of attributes which one particular Credential can contain.\n",
    "\n",
    "**Note:** It's not possible to update an existing Schema. So, if the Schema needs to be evolved, a new Schema with a new version or name needs to be created.\n",
    "\n",
    "A **Credential Schema** can be created and saved in the Ledger by any **Trust Anchor**.\n",
    "\n",
    "Here is where the **Government** creates and publishes the **Transcript** Credential Schema to the Ledger:\n",
    "\n",
    "1. The **Trust Anchor** creates the **Credential Schema** by calling the ``anoncreds.issuer_create_schema`` that returns the generated **Credential Schema**.\n",
    "    ```python\n",
    "    # Government Agent\n",
    "    (transcript_schema_id, transcript_schema) = \\\n",
    "        await anoncreds.issuer_create_schema(government_did,\n",
    "                                             'Transcript',\n",
    "                                             '1.2',\n",
    "                                             json.dumps(['first_name', 'last_name', 'degree', 'status', 'year', 'average', 'ssn']))\n",
    "    ```\n",
    "\n",
    "2. The **Trust Anchor** sends the corresponding Schema transaction to the Ledger by consistently calling the ``ledger.build_schema_request`` to build the Schema request and ``ledger.sign_and_submit_request`` to send the created request.\n",
    "    ```python\n",
    "    # Government Agent\n",
    "    schema_request = await ledger.build_schema_request(government_did, transcript_schema)\n",
    "    await ledger.sign_and_submit_request(pool_handle, government_wallet, government_did, schema_request)\n",
    "    ```\n",
    "\n",
    "In the same way **Government** creates and publishes the **Job-Certificate** Credential Schema to the Ledger:\n",
    "```python    \n",
    "  # Government Agent\n",
    "    (job_certificate_schema_id, job_certificate_schema) = \\\n",
    "        await anoncreds.issuer_create_schema(government_did,\n",
    "                                             'Job-Certificate',\n",
    "                                             '0.2',\n",
    "                                             json.dumps(['first_name', 'last_name', 'salary', 'employee_status', 'experience']))\n",
    "  schema_request = await ledger.build_schema_request(government_did, json.dumps(to the Ledger))\n",
    "  await ledger.sign_and_submit_request(pool_handle, government_wallet, government_did, schema_request)\n",
    "```\n",
    "\n",
    "At this point we have the **Transcript** and the **Job-Certificate** Credential Schemas published by **Government** to the Ledger.\n"
   ]
  },
  {
   "cell_type": "markdown",
   "metadata": {},
   "source": [
    "[previous](05-getting-verinym.ipynb) | [next](07-cred-definition-setup.ipynb)"
   ]
  }
 ],
 "metadata": {
  "kernelspec": {
   "display_name": "Python 3",
   "language": "python",
   "name": "python3"
  },
  "language_info": {
   "codemirror_mode": {
    "name": "ipython",
    "version": 3
   },
   "file_extension": ".py",
   "mimetype": "text/x-python",
   "name": "python",
   "nbconvert_exporter": "python",
   "pygments_lexer": "ipython3",
   "version": "3.5.2"
  }
 },
 "nbformat": 4,
 "nbformat_minor": 2
}
