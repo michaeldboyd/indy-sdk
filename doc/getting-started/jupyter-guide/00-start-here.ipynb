{
 "cells": [
  {
   "cell_type": "markdown",
   "metadata": {},
   "source": [
    "# A Developer Guide for Building Indy Clients Using the SDK\n",
    "\n"
   ]
  },
  {
   "cell_type": "markdown",
   "metadata": {},
   "source": [
    "* [Infrastructure Preparation](preparing-infrastructure.ipynb)\n",
    "    * [Step 1: Getting Trust Anchor Credentials for Faber, Acme, Thrift and Government](01-trust-anchor-credentials.ipynb)\n",
    "    * [Step 2: Connecting to the Indy Nodes Pool](02-connect-to-nodes.ipynb)\n",
    "    * [Step 3: Getting the Ownership for Stewards's Verinym](03-get-steward-ownership.ipynb)\n",
    "    * [Step 4: Onboarding Faber, Acme, Thrift and Government by the Steward](04-onboarding-agents.ipynb)\n",
    "    * [Step 5: Getting the Verinym](05-getting-verinym.ipynb)\n",
    "    * [Step 6: Credential Schemas Setup](06-cred-schema-setup.ipynb)\n",
    "    * [Step 7: Credential Definition Setup](07-cred-definition-setup.ipynb)\n",
    "* [Alice Gets a Transcript](08-alice-gets-a-transcript.ipynb)\n",
    "* [Apply for a Job](09-alice-applies-for-a-job.ipynb)\n",
    "* [Apply for a Loan](10-alice-applies-for-a-loan.ipynb)\n"
   ]
  },
  {
   "cell_type": "markdown",
   "metadata": {},
   "source": [
    "## What Indy and Libindy are and Why They Matter\n",
    "\n",
    "Indy provides a software ecosystem for private, secure, and powerful identity, and libindy enables clients for it. Indy puts people — not the organizations that traditionally centralize identity — in charge of decisions about their own privacy and disclosure. This enables all kinds of rich innovation: connection contracts, revocation, novel payment workflows, asset and document management features, creative forms of escrow, curated reputation, integrations with other cool technologies, and so on.\n",
    "\n",
    "Indy uses open-source, distributed ledger technology. These ledgers are a form of database that is provided cooperatively by a pool of participants, instead of by a giant database with a central admin. Data lives redundantly in many places, and it accrues in transactions orchestrated by many machines. Strong, industry-standard cryptography protects it. Best practices in key management and cybersecurity pervade its design. The result is a reliable, public source of truth under no single entity’s control, robust to system failure, resilient to hacking, and highly immune to subversion by hostile entities.\n",
    "\n",
    "If the concepts of cryptography and blockchain details feel mysterious, fear not: this guide will help introduce you to key concepts within Indy. You’re starting in the right place."
   ]
  },
  {
   "cell_type": "markdown",
   "metadata": {},
   "source": [
    "## What We’ll Cover\n",
    "\n",
    "Our goal is to introduce you to many of the concepts of Indy and give you some idea of what happens behind the scenes to make it all work.\n",
    "\n",
    "We're going to frame the exploration with a story. Alice, a graduate of the fictional Faber College, wants to apply for a job at the fictional company Acme Corp. As soon as she has the job, she wants to apply for a loan in Thrift Bank so she can buy a car. She would like to use her college transcript as proof of her education on the job application and once hired, Alice would like to use the fact of employment as evidence of her creditworthiness for the loan.\n",
    "\n",
    "The sorts of identity and trust interactions required to pull this off are messy in the world today; they are slow, they violate privacy, and they are susceptible to fraud. We’ll show you how Indy is a quantum leap forward.\n",
    "\n",
    "Ready?"
   ]
  },
  {
   "cell_type": "markdown",
   "metadata": {},
   "source": [
    "[next](preparing-infrastructure.ipynb)"
   ]
  }
 ],
 "metadata": {
  "kernelspec": {
   "display_name": "Python 3",
   "language": "python",
   "name": "python3"
  },
  "language_info": {
   "codemirror_mode": {
    "name": "ipython",
    "version": 3
   },
   "file_extension": ".py",
   "mimetype": "text/x-python",
   "name": "python",
   "nbconvert_exporter": "python",
   "pygments_lexer": "ipython3",
   "version": "3.5.2"
  }
 },
 "nbformat": 4,
 "nbformat_minor": 2
}
