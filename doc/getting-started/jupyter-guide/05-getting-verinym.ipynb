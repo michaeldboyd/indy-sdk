{
 "cells": [
  {
   "cell_type": "markdown",
   "metadata": {},
   "source": [
    "# 5. Getting Verinym\n",
    "\n",
    "It is important to understand that earlier created **Faber** DID is not, in and of itself, the same thing as self-sovereign identity. This DID must be used only for secure interaction with the **Steward**.\n",
    "After the connection is established **Faber** must create new DID record that he will use as Verinym in the Ledger.\n",
    "\n",
    "1. **Faber** creates a new DID in its wallet by calling ``did.create_and_store_my_did``.\n",
    "    ```python        \n",
    "    # Faber Agent\n",
    "    (faber_did, faber_key) = await did.create_and_store_my_did(faber_wallet, \"{}\")\n",
    "    ```\n",
    "\n",
    "2. **Faber** prepares the message that will contain the created DID and verkey.\n",
    "    ```python        \n",
    "    # Faber Agent\n",
    "    faber_did_info_json = json.dumps({\n",
    "        'did': faber_did,\n",
    "        'verkey': faber_key\n",
    "    })\n",
    "    ```\n",
    "\n",
    "3. **Faber** authenticates and encrypts the message by calling ``crypto.auth_crypt`` using verkeys created for secure communication with **Steward**. The Authenticated-encryption schema is designed for the sending of a confidential message specifically for a Recipient, using the Sender's public key. Using the Recipient's public key, the Sender can compute a shared secret key. Using the Sender's public key and his secret key, the Recipient can compute the exact same shared secret key. That shared secret key can be used to verify that the encrypted message was not tampered with, before eventually decrypting it.\n",
    "    ```python        \n",
    "    # Faber Agent\n",
    "    authcrypted_faber_did_info_json = \\\n",
    "        await crypto.auth_crypt(faber_wallet, faber_steward_key, steward_faber_key, faber_did_info_json.encode('utf-8'))\n",
    "    ```\n",
    "\n",
    "4. **Faber** sends the encrypted message to the **Steward**.\n",
    "\n",
    "5. **Steward** decrypts the received message by calling ``crypto.auth_decrypt``.\n",
    "    ```python        \n",
    "    # Steward Agent    \n",
    "    sender_verkey, authdecrypted_faber_did_info_json = \\\n",
    "        await crypto.auth_decrypt(steward_handle, steward_faber_key, authcrypted_faber_did_info_json)\n",
    "    faber_did_info = json.loads(authdecrypted_faber_did_info_json)\n",
    "    ```\n",
    "\n",
    "6. **Steward** asks the ledger for the Verification key of **Faber's** DID by calling ``did.key_for_did``.\n",
    "    ```python        \n",
    "    # Steward Agent    \n",
    "    faber_verkey = await did.key_for_did(pool_handle, from_wallet, faber_did_info['did'])\n",
    "    ```\n",
    "\n",
    "7. **Steward** authenticates **Faber** by comparison of the Message Sender Verkey and the **Faber** Verkey received from the Ledger.\n",
    "    ```python        \n",
    "    # Steward Agent    \n",
    "    assert sender_verkey == faber_verkey\n",
    "    ```\n",
    "\n",
    "8. **Steward** sends the corresponded NYM transaction to the Ledger with `TRUST ANCHOR` role.\n",
    "Please note that despite the fact that the Steward is the sender of this transaction the owner of DID will be Faber as it uses Verkey provided by Faber.\n",
    "    ```python    \n",
    "    # Steward Agen\n",
    "    nym_request = await ledger.build_nym_request(steward_did, decrypted_faber_did_info_json['did'],\n",
    "                                                 decrypted_faber_did_info_json['verkey'], None, 'TRUST_ANCHOR')\n",
    "    await ledger.sign_and_submit_request(pool_handle, steward_wallet, steward_did, nym_request)\n",
    "    ```\n",
    "At this point **Faber** has a DID related to his identity in the Ledger.\n",
    "\n",
    "**Acme**, **Thrift Bank**, and **Government** must pass the same Onboarding process connection establishment with **Steward**.\n"
   ]
  },
  {
   "cell_type": "markdown",
   "metadata": {},
   "source": [
    "[previous](04-onboarding-agents.ipynb) | [next](06-cred-schema-setup.ipynb)"
   ]
  }
 ],
 "metadata": {
  "kernelspec": {
   "display_name": "Python 3",
   "language": "python",
   "name": "python3"
  },
  "language_info": {
   "codemirror_mode": {
    "name": "ipython",
    "version": 3
   },
   "file_extension": ".py",
   "mimetype": "text/x-python",
   "name": "python",
   "nbconvert_exporter": "python",
   "pygments_lexer": "ipython3",
   "version": "3.5.2"
  }
 },
 "nbformat": 4,
 "nbformat_minor": 2
}
