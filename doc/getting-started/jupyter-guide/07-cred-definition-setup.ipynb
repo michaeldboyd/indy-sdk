{
 "cells": [
  {
   "cell_type": "markdown",
   "metadata": {},
   "source": [
    "# 7. Credential Definition Setup\n",
    "\n",
    "**Credential Definition** is similar in that the keys that the Issuer uses for the signing of Credentials also satisfies a specific Credential Schema.\n",
    "\n",
    "**Note** It's not possible to update data in an existing Credential Definition. So, if a `CredDef` needs to be evolved (for example, a key needs to be rotated), then a new Credential Definition needs to be created by a new Issuer DID.\n",
    "\n",
    "A Credential Definition can be created and saved in the Ledger by any **Trust Anchor**. Here **Faber** creates and publishes a Credential Definition for the known **Transcript** Credential Schema to the Ledger.\n",
    "\n",
    "1. The **Trust Anchor** gets the specific **Credential Schema** from the Ledger by consistently calling the ``ledger.build_get_schema_request`` to build the `GetSchema` request, ``ledger.sign_and_submit_request`` to send the created request and the ``ledger.parse_get_schema_response`` to get the `Schema` in the format required by Anoncreds API from the `GetSchema` response.\n",
    "    ```python\n",
    "    # Faber Agent\n",
    "    get_schema_request = await ledger.build_get_schema_request(faber_did, transcript_schema_id)\n",
    "    get_schema_response = await ledger.submit_request(pool_handle, get_schema_request)\n",
    "    (transcript_schema_id, transcript_schema) = await ledger.parse_get_schema_response(get_schema_response)\n",
    "    ```\n",
    "\n",
    "2. The **Trust Anchor** creates the **Credential Definition** related to the received **Credential Schema** by calling ``anoncreds.issuer_create_and_store_credential_def`` that returns the generated public **Credential Definition**.\n",
    "   The private Credential Definition part for this **Credential Schema** will be stored in the wallet too, but it is impossible to read it directly.\n",
    "    ```python\n",
    "    # Faber Agent\n",
    "    (faber_transcript_cred_def_id, faber_transcript_cred_def_json) = \\\n",
    "        await anoncreds.issuer_create_and_store_credential_def(faber_wallet, faber_did, transcript_schema, 'TAG1', 'CL', '{\"support_revocation\": false}')\n",
    "    ```\n",
    "\n",
    "3. The **Trust Anchor** sends the corresponding `CredDef` transaction to the Ledger by consistently calling the ``ledger.build_cred_def_request`` to build the `CredDef` request and the ``ledger.sign_and_submit_request`` to send the created request.\n",
    "    ```python\n",
    "    # Faber Agent     \n",
    "    cred_def_request = await ledger.build_cred_def_request(faber_did, faber_transcript_cred_def_json)\n",
    "    await ledger.sign_and_submit_request(pool_handle, faber_wallet, faber_did, cred_def_request)\n",
    "    ```\n",
    "\n",
    "The same way **Acme** creates and publishes a **Credential Definition** for the known **Job-Certificate** Credential Schema to the Ledger.\n",
    "```python\n",
    "  # Acme Agent\n",
    "  get_schema_request = await ledger.build_get_schema_request(acme_did, job_certificate_schema_id)\n",
    "  get_schema_response = await ledger.submit_request(pool_handle, get_schema_request)\n",
    "  (job_certificate_schema_id, job_certificate_schema) = await ledger.parse_get_schema_response(get_schema_response)\n",
    "\n",
    "  (acme_job_certificate_cred_def_id, acme_job_certificate_cred_def_json) = \\\n",
    "      await anoncreds.issuer_create_and_store_credential_def(acme_wallet, acme_did, job_certificate_schema, 'TAG1', 'CL', '{\"support_revocation\": false}')\n",
    "\n",
    "    cred_def_request = await ledger.build_cred_def_request(acme_did, acme_job_certificate_cred_def_json)\n",
    "    await ledger.sign_and_submit_request(pool_handle, acme_wallet, acme_did, cred_def_request)\n",
    "```\n",
    "\n",
    "At this point we have a **Credential Definition** for the **Job-Certificate** Credential Schema published by **Acme** and a\n",
    " **Credential Definition** for the **Transcript** Credential Schema published by **Faber**."
   ]
  },
  {
   "cell_type": "markdown",
   "metadata": {},
   "source": [
    "[previous](06-cred-schema-setup.ipynb) | [next](08-alice-gets-a-transcript.ipynb)"
   ]
  }
 ],
 "metadata": {
  "kernelspec": {
   "display_name": "Python 3",
   "language": "python",
   "name": "python3"
  },
  "language_info": {
   "codemirror_mode": {
    "name": "ipython",
    "version": 3
   },
   "file_extension": ".py",
   "mimetype": "text/x-python",
   "name": "python",
   "nbconvert_exporter": "python",
   "pygments_lexer": "ipython3",
   "version": "3.5.2"
  }
 },
 "nbformat": 4,
 "nbformat_minor": 2
}
