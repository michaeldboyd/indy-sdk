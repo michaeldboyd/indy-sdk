{
 "cells": [
  {
   "cell_type": "markdown",
   "metadata": {},
   "source": [
    "# SSI Walkthrough with Jupyter\n",
    "\n"
   ]
  },
  {
   "cell_type": "markdown",
   "metadata": {},
   "source": [
    "* [Getting Started with Libindy](00-introduction.ipynb)\n",
    "  * What Indy and Libindy are and Why They Matter\n",
    "  * What We'll Cover\n",
    "  * About Alice\n",
    "  \n",
    "* Infrastructure Preparation\n",
    "  * [Step 1: Getting Trust Anchor Credentials for Faber, Acme, Thrift and Government](01-trust-anchor-credentials.ipynb)\n",
    "  * [Step 2: Connecting to the Indy Nodes Pool](02-connect-to-nodes.ipynb)\n",
    "  * [Step 3: Getting the Ownership for Stewards's Verinym](03-get-steward-ownership.ipynb)\n",
    "  * [Step 4: Onboarding Faber, Acme, Thrift and Government by the Steward](04-onboarding-stewards.ipynb)\n",
    "    * Connecting the Establishment\n",
    "    * Getting the Verinym\n",
    "  * [Step 5: Credential Schemas Setup](05-cred-schema-setup.ipynb)\n",
    "  * [Step 6: Credential Definition Setup](06-cred-definition-setup.ipynb)\n",
    "  * [Alice Gets a Transcript](07-alice-gets-transcript.ipynb)\n",
    "  * [Apply for a Job](08-alice-applies-for-job.ipynb)\n",
    "  * [Apply for a Loan](09-alice-applies-for-loan.ipynb)"
   ]
  }
 ],
 "metadata": {
  "kernelspec": {
   "display_name": "Python 3",
   "language": "python",
   "name": "python3"
  },
  "language_info": {
   "codemirror_mode": {
    "name": "ipython",
    "version": 3
   },
   "file_extension": ".py",
   "mimetype": "text/x-python",
   "name": "python",
   "nbconvert_exporter": "python",
   "pygments_lexer": "ipython3",
   "version": "3.5.2"
  }
 },
 "nbformat": 4,
 "nbformat_minor": 2
}
